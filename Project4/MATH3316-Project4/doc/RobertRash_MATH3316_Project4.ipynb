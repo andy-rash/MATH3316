{
 "cells": [
  {
   "cell_type": "markdown",
   "metadata": {},
   "source": [
    "## Project 4 - Numerical Integration"
   ]
  },
  {
   "cell_type": "raw",
   "metadata": {},
   "source": [
    "Robert Rash\n",
    "MATH3316\n",
    "7 December 2017"
   ]
  },
  {
   "cell_type": "markdown",
   "metadata": {},
   "source": [
    "## Introduction\n",
    "\n",
    "### Project Structure"
   ]
  },
  {
   "cell_type": "code",
   "execution_count": 1,
   "metadata": {},
   "outputs": [
    {
     "name": "stdout",
     "output_type": "stream",
     "text": [
      "\u001b[1m\u001b[36mMATH3316-Project3.xcodeproj\u001b[m\u001b[m/ \u001b[1m\u001b[36mlib\u001b[m\u001b[m/\r\n",
      "\u001b[1m\u001b[36mbin\u001b[m\u001b[m/                         \u001b[1m\u001b[36mres\u001b[m\u001b[m/\r\n",
      "\u001b[1m\u001b[36mdoc\u001b[m\u001b[m/                         \u001b[1m\u001b[36msrc\u001b[m\u001b[m/\r\n"
     ]
    }
   ],
   "source": [
    "%ls .."
   ]
  },
  {
   "cell_type": "markdown",
   "metadata": {},
   "source": [
    "Excluding the `.xcodeproj` file, which was used for integration with the Xcode IDE, debugging, and profiling purposes, each item in the project directory serves the following purpose:\n",
    "\n",
    "- `Makefile`: GNU Make project build automation definitions.\n",
    "- `bin/`: compiled binaries. Make will put binaries here by default.\n",
    "- `doc/`: directory containing all documentation, including this report.\n",
    "- `lib/`: reused libraries that are not part of this project specifically. Contains a rewrite of the Matrix library ([phrz/matrix](https://github.com/phrz/matrix)).\n",
    "- `res/`: where calculated data is stored after program execution. Files are `.txt` files containing real numbers, space delimited to denote row items, and newline delimited to denote new rows. For this project, the `.txt` files are also organized into separate `res/part{1..3}/` directories.\n",
    "- `src/`: contains the C++ implementations of the calculations described in this report.\n",
    "\n",
    "### Using this Project\n",
    "\n",
    "#### Prerequisites\n",
    "- A Unix or Unix-like OS (e.g. macOS or Linux)\n",
    "- A compiler with support for C++14 (LLVM or GNU toolchain)\n",
    "- Python ≥3.5\n",
    "- The latest Jupyter distribution\n",
    "    - matplotlib\n",
    "- LaTeX with `pdflatex`\n",
    "- GNU Make ≥3.81\n",
    "\n",
    "#### Building this project\n",
    "\n",
    "`make all` (default) - will compile binaries, execute them to generate data files, execute Jupyter notebooks with new data files, and convert them to PDFs in `res/reports/`.\n",
    "\n",
    "`make all_bin` - will compile binaries for part 1 and 2 of this project.\n",
    "\n",
    "`make all_data` - will compile binaries and execute them to generate data files.\n",
    "\n",
    "`make clean` - will delete all compiled binaries, generated data, executed notebook copies (but not the original notebooks), and report PDFs."
   ]
  },
  {
   "cell_type": "markdown",
   "metadata": {},
   "source": [
    "## Part 1 - Trapezoidal Rule and Simpson's Rule\n",
    "\n",
    "This portion of the project involves approximating the definite integral of a polynomial function and a trigonometric function using both the composite trapezoidal rule and the composite Simpson's rule.\n",
    "\n",
    "### Background\n",
    "\n",
    "#### Composite Trapezoidal Rule\n",
    "\n",
    "One method for finding the area under a curve $y = f(x)$ over the interval $[a,b]$ is by approximating the area using a series of trapezoids over the intervals $\\{[x_k,x_{k+1}]\\}$.\n",
    "\n",
    "Let the interval $[a,b]$ be divided into $n$ subintervals $[x_k,x_{k+1}]$ of width $h = (b - a)\\ /\\ n$ using the equally spaced nodes $x_k = a + k h\\ ,\\ k = 0, 1,\\ ...\\ n$. The composite trapezoidal rule can then be expressed as\n",
    "\n",
    "$$\n",
    "T(\\ f) = \\frac{h}{2} (\\ f_0 + 2\\ f_1 +\\ ...\\ + 2\\ f_{n-1} + f_n)\n",
    "$$\n",
    "\n",
    "This approximates the the integral of $f(x)$ over the interval $[a,b]$\n",
    "\n",
    "$$\n",
    "\\int_{a}^{b} f(x)\\ dx \\approx T(\\ f) = \\frac{h}{2} (\\ f_0 + 2\\ f_1 +\\ ...\\ + 2\\ f_{n-1} + f_n)\n",
    "$$\n",
    "\n",
    "Generally speaking, the absolute error $|\\ f(x) - T(\\ f)\\ |$ decreases as $n$ increases. That is to say, the higher the \"resolution\", the better the approximation of the integral.\n",
    "\n",
    "#### Composite Simpson's Rule\n",
    "\n",
    "Another method for finding the area under a curve is by approximating the area using a series of quadratic interpolants over the intervals $\\{[x_k,x_{k+1}]\\}$.\n",
    "\n",
    "Let the interval $[a,b]$ be divided into $n$ subintervals $[x_k,x_{k+1}]$ of width $h = (b - a)\\ /\\ n$ using the equally spaced nodes $x_k = a + k h\\ ,\\ k = 0, 1,\\ ...\\ n$. This rule only works when $n$ is an even number. The composite Simpson's rule can then be expressed as\n",
    "\n",
    "$$\n",
    "S(\\ f) = \\frac{h}{3} (\\ f_0 + 4\\ f_1 + 2\\ f_2+\\ ...\\ + 2\\ f_{n-2} + 4\\ f_{n-1} + f_n)\n",
    "$$\n",
    "\n",
    "This approximates the the integral of $f(x)$ over the interval $[a,b]$\n",
    "\n",
    "$$\n",
    "\\int_{a}^{b} f(x)\\ dx \\approx S(\\ f) = \\frac{h}{3} (\\ f_0 + 4\\ f_1 + 2\\ f_2+\\ ...\\ + 2\\ f_{n-2} + 4\\ f_{n-1} + f_n)\n",
    "$$\n",
    "\n",
    "Similarly to the composite trapezoidal rule, the composite Simpson's rule tends to provide a better approximation given a higher value $n$.\n",
    "\n",
    "Additionally, it can be shown that the composite Simpson's rule is exact for polynomials of degree $\\in [0,3]$. The error formula for the composite Simpson's rule is known to be\n",
    "\n",
    "$$\n",
    "E_S(\\ f) = \\frac{-\\ f^{(4)}(\\xi)}{180} (b - a)\\ h^4\n",
    "$$\n",
    "\n",
    "$E_S(\\ f)$ is proportional to $f^{(4)}(\\xi)$, and the fourth derivative of any polynomial of degree $\\in [0,3]$ is zero at all points. Thus, the error for any polynomial of degree $\\in [0,3]$ will be zero (i.e. the results are exact).\n",
    "\n",
    "### Implementation\n",
    "\n",
    "Implementation entails the creation of two functions `composite_trapezoid` and `composite_simpson`. Each of these functions has been included in the interface for a class `NumericalIntegrator`.\n",
    "\n",
    "`composite_trapezoid` performs the composite trapezoidal rule for a given function `Fcn` over the bounds `a` and `b` using a number of subintervals `n`.\n",
    "\n",
    "Accordingly, `composite_simpson` performs the composite Simpson's rule for a given function `Fcn` over the bounds `a` and `b` using a number of subintervals `n`.\n",
    "\n",
    "#### Testing\n",
    "\n",
    "The above functions are tested in the file `test_basic_rules.cpp` by approximating the integral of a polynomial function\n",
    "\n",
    "$$\n",
    "I_{f\\ poly} = \\int_{-1}^{2} 6x^2 - 4x + 1\\ dx = 15\n",
    "$$\n",
    "\n",
    "and a trigonometric function\n",
    "\n",
    "$$\n",
    "I_{f\\ trig} = \\int_{-1}^{1} \\sin(\\pi x) \\exp(x) \\ dx = \\frac{\\pi (e - \\frac{1}{e})}{1 + \\pi^2}\n",
    "$$\n",
    "\n",
    "The absolute error $|\\ f(x) - I_f\\ |$ is also calculated and output for each test case.\n",
    "\n",
    "### Analysis\n",
    "\n",
    "When approximating the integral of the polynomial function, the value $n$ is set at 1000. The results for the polynomial can be seen below."
   ]
  },
  {
   "cell_type": "code",
   "execution_count": 34,
   "metadata": {},
   "outputs": [
    {
     "name": "stdout",
     "output_type": "stream",
     "text": [
      "True Integral (polynomial) = 1.5000000000000000e+01\n",
      "\n",
      "Simpson's Rule Polynomial test (f(x) = 6x^2 - 4x + 1):\n",
      "     n             I_f                abs err\n",
      "-------------------------------------------------------\n",
      "    1000    1.5000000000000020e+01    2.0e-14         \n",
      "\n",
      "Trapezoid Rule Polynomial test (f(x) = 6x^2 - 4x + 1):\n",
      "     n             I_f                abs err\n",
      "-------------------------------------------------------\n",
      "    1000    1.4949206837999998e+01    5.1e-02         \n"
     ]
    }
   ],
   "source": [
    "import subprocess\n",
    "\n",
    "res = subprocess.run([\"../bin/Project4_Part1_1\"], stdout=subprocess.PIPE)\n",
    "output = res.stdout.decode(\"UTF-8\")\n",
    "print('\\n'.join(output.split('\\n')[:11]))"
   ]
  },
  {
   "cell_type": "markdown",
   "metadata": {},
   "source": [
    "The error for both types of approximations are reasonable. For the composite Simpson's rule, we can see that, as predicted earlier, the result is exact barring a little bit of floating point error. Predictably, the composite trapezoidal rule is less accurate given the number of subintervals, though it gets remarkably close to the true value of the antiderivative, with an absolute error value of only ~0.051.\n",
    "\n",
    "For the trigonometric function, the two methods of approximation were tested using the subintervals $n = \\{20, 40, 80, 160, 320, 640\\}$. In addition, the convergence rate \n",
    "\n",
    "$$\n",
    "C_n = \\frac{\\log(E_{n-1}(\\ f)) - \\log(E_n(\\ f))}{\\log(h_{n-1}) - \\log(h_n)}\n",
    "$$\n",
    "\n",
    "is output for values $n \\in \\{40, 80, 160, 320, 640\\}$. The results can be seen below."
   ]
  },
  {
   "cell_type": "code",
   "execution_count": 35,
   "metadata": {},
   "outputs": [
    {
     "name": "stdout",
     "output_type": "stream",
     "text": [
      "True Integral (trig function) = 6.7932618340209472e-01\n",
      "\n",
      " Simpson Rule approximation:\n",
      "     n             I_f             abs err    conv rate\n",
      "  -----------------------------------------------------\n",
      "       20  6.7935437830861389e-01  2.8e-05     ----\n",
      "       40  6.7932794496229432e-01  1.8e-06   4.000509\n",
      "       80  6.7932629348720586e-01  1.1e-07   4.000163\n",
      "      160  6.7932619028221009e-01  6.9e-09   4.000043\n",
      "      320  6.7932618383209908e-01  4.3e-10   4.000010\n",
      "      640  6.7932618342896989e-01  2.7e-11   4.000006\n",
      "\n",
      " Trapezoid Rule approximation:\n",
      "     n             I_f             abs err    conv rate\n",
      "  -----------------------------------------------------\n",
      "       20  5.9715988223642913e-01  8.2e-02     ----\n",
      "       40  6.5756270293473129e-01  2.2e-02   1.916638\n",
      "       80  6.7374136764046710e-01  5.6e-03   1.962328\n",
      "      160  6.7791261630888933e-01  1.4e-03   1.982169\n",
      "      320  6.7897066314063759e-01  3.6e-04   1.991337\n",
      "      640  6.7923703997387375e-01  8.9e-05   1.995731\n",
      "\n"
     ]
    }
   ],
   "source": [
    "import subprocess\n",
    "\n",
    "res = subprocess.run([\"../bin/Project4_Part1_1\"], stdout=subprocess.PIPE)\n",
    "output = res.stdout.decode(\"UTF-8\")\n",
    "print('\\n'.join(output.split('\\n')[16:]))"
   ]
  },
  {
   "cell_type": "markdown",
   "metadata": {},
   "source": [
    "These results clearly demonstrate the behaviour of each of the methods' error formulas\n",
    "\n",
    "$$\n",
    "E_T(\\ f) = \\frac{-\\ f^{(2)}(\\xi)}{12} (b - a)\\ h^2 = \\mathcal{O}(h^2) \\\\\n",
    "E_S(\\ f) = \\frac{-\\ f^{(4)}(\\xi)}{180} (b - a)\\ h^4 = \\mathcal{O}(h^4)\n",
    "$$\n",
    "\n",
    "Theoretically, the composite Simpson's rule should converge significantly faster than the composite trapezoidal rule. Observing the convergence rates for each of the methods, we can see that the theory proves true. The composite Simpson's rule converges at a nearly constant rate of $4$, while the composite Trapezoidal rule converges at a slowly increasing rate close to $2$.\n",
    "\n",
    "In this case, the composite Simpson's rule managed to approximate the integral to a precision on the order of 1.0e-05 with 20 subintervals, while the composite trapezoidal rule took 640 iterations to approach the same level of precision. That is, at least in this instance, the composite Simpson's rule managed to achieve a relatively high precision of approximation with nearly 97% fewer subintervals than the composite trapezoidal rule."
   ]
  },
  {
   "cell_type": "markdown",
   "metadata": {},
   "source": [
    "## Part 2 - Application\n",
    "\n",
    "In this section, we cover a practical application of numerical integration methods, in this instance determining the concentration of carbon in a piece of steel during the carburizing process.\n",
    "\n",
    "### Background\n",
    "\n",
    "At a constant temperature, the concentration of carbon $C(x,t)$ at a distance $x$ (in meters) from the surface, and time $t$ (in seconds) can be defined by\n",
    "\n",
    "$$\n",
    "C(x,t) = C_s - (C_s - C_0)\\ \\textrm{erf}\\bigg(\\frac{x}{\\sqrt{4 D t}}\\bigg)\n",
    "$$\n",
    "\n",
    "where $C_s$ is the carbon concentration in the gas used for the carburizing process, $C_0$ is the initial carbon concentration of the steel, and $D$ is the diffusion coefficient of the steel at a given temperature. The error function $\\textrm{erf}$ is defined as\n",
    "\n",
    "$$\n",
    "\\textrm{erf}(y) = \\frac{2}{\\sqrt{\\pi}} \\int_{0}^{y} e^{-z^2} dz\n",
    "$$\n",
    "\n",
    "### Implementation\n",
    "\n",
    "The functions `carbon` and `erf` were implemented in the file `carbon.cpp`. Each of these functions is rather self-explanatory given understanding of the previous section.\n",
    "\n",
    "#### Testing\n",
    "\n",
    "The `carbon` function is evaluated using time values $t \\in \\{1, 2, 10, 40\\}$ using 200 equally-spaced values over the interval $[0.0,3.0]$ mm. These values are computed, stored in a `PH::Vector`, and then output to files `carbon_${t}.txt` where $t \\in \\{1, 2, 10, 40\\}$."
   ]
  },
  {
   "cell_type": "markdown",
   "metadata": {},
   "source": [
    "### Analysis\n",
    "\n"
   ]
  },
  {
   "cell_type": "code",
   "execution_count": 36,
   "metadata": {},
   "outputs": [
    {
     "name": "stdout",
     "output_type": "stream",
     "text": [
      "Populating the interactive namespace from numpy and matplotlib\n"
     ]
    }
   ],
   "source": [
    "%pylab inline\n",
    "pylab.rcParams['figure.figsize'] = (10,6)\n",
    "matplotlib.rcParams.update({'font.size': 16})\n",
    "matplotlib.rcParams.update({'axes.labelsize': 20})\n",
    "matplotlib.rcParams.update({'xtick.labelsize': 12})\n",
    "matplotlib.rcParams.update({'ytick.labelsize': 12})\n",
    "matplotlib.rcParams.update({\n",
    "    'font.family': 'Helvetica, Arial, sans-serif'\n",
    "})"
   ]
  },
  {
   "cell_type": "code",
   "execution_count": 37,
   "metadata": {},
   "outputs": [],
   "source": [
    "names = [ 'carbon_1', 'carbon_2', 'carbon_10', 'carbon_40' ]\n",
    "data = {name: loadtxt('../res/part2/'+name+'.txt') for name in names}\n",
    "data['x'] = linspace(0,3,200)"
   ]
  },
  {
   "cell_type": "code",
   "execution_count": 58,
   "metadata": {},
   "outputs": [
    {
     "data": {
      "text/plain": [
       "<matplotlib.legend.Legend at 0x10ff29c50>"
      ]
     },
     "execution_count": 58,
     "metadata": {},
     "output_type": "execute_result"
    },
    {
     "data": {
      "image/png": "[encoded data removed]",
      "text/plain": [
       "<matplotlib.figure.Figure at 0x10f404898>"
      ]
     },
     "metadata": {},
     "output_type": "display_data"
    }
   ],
   "source": [
    "# plot C(x, t) versus x for each specified value of t\n",
    "# and overlay the four curves (corresponding to four\n",
    "# values of t) in one figure\n",
    "\n",
    "pylab.semilogx(data['x'], data['carbon_1'])\n",
    "pylab.semilogx(data['x'], data['carbon_2'])\n",
    "pylab.semilogx(data['x'], data['carbon_10'])\n",
    "pylab.semilogx(data['x'], data['carbon_40'])\n",
    "\n",
    "pylab.title('Concentration of carbon $C(x,t)$ in a piece of steel, $x \\in [0, 3]$, $t \\in \\{1, 2, 10, 40\\}$')\n",
    "pylab.xlabel('$x\\ (distance\\ \\endash\\ mm)$')\n",
    "pylab.ylabel('$C(x,t)$')\n",
    "pylab.grid()\n",
    "\n",
    "pylab.legend(('$C(x,1)$',\n",
    "              '$C(x,2)$',\n",
    "              '$C(x,10)$',\n",
    "              '$C(x,40)$'))"
   ]
  },
  {
   "cell_type": "markdown",
   "metadata": {},
   "source": [
    "The overlaid graphs above show (rather intuitively) that the carbon penetrates the steel at logarithmically greater depths as time increases but with logarithmically diminishing returns."
   ]
  }
 ],
 "metadata": {
  "kernelspec": {
   "display_name": "Project4",
   "language": "python",
   "name": "doc-pnnrz20e"
  },
  "language_info": {
   "codemirror_mode": {
    "name": "ipython",
    "version": 3
   },
   "file_extension": ".py",
   "mimetype": "text/x-python",
   "name": "python",
   "nbconvert_exporter": "python",
   "pygments_lexer": "ipython3",
   "version": "3.6.3"
  }
 },
 "nbformat": 4,
 "nbformat_minor": 2
}
